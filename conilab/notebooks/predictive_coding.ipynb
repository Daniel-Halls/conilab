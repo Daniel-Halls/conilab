{
 "cells": [
  {
   "cell_type": "markdown",
   "metadata": {},
   "source": [
    "# Predictive coding/free energy"
   ]
  },
  {
   "cell_type": "markdown",
   "metadata": {},
   "source": [
    "## Notation:\n",
    "; seperates the random variable from the parameters of the distribution\n",
    "\n",
    "for simiplcity P=probabilty  p=prior\n",
    "\n",
    "\n",
    "f(x;μ, Σ) this is the probability density function (PDF) density of a univariate normal distribution with mean μ and variance Σ\n",
    "\n",
    "pdf: probabilty that describes the likelihood of a randaom variable taking a particular value\n",
    "\n",
    "<math xmlns=\"http://www.w3.org/1998/Math/MathML\">\n",
    "  <mi is=\"true\">f</mi>\n",
    "  <mrow is=\"true\">\n",
    "    <mo is=\"true\">(</mo>\n",
    "    <mi is=\"true\">x</mi>\n",
    "    <mo is=\"true\">;</mo>\n",
    "    <mi is=\"true\">&#x3BC;</mi>\n",
    "    <mo is=\"true\">,</mo>\n",
    "    <mi is=\"true\">&#x3A3;</mi>\n",
    "    <mo is=\"true\">)</mo>\n",
    "  </mrow>\n",
    "  <mo is=\"true\">=</mo>\n",
    "  <mfrac is=\"true\">\n",
    "    <mrow is=\"true\">\n",
    "      <mn is=\"true\">1</mn>\n",
    "    </mrow>\n",
    "    <mrow is=\"true\">\n",
    "      <msqrt is=\"true\">\n",
    "        <mrow is=\"true\">\n",
    "          <mn is=\"true\">2</mn>\n",
    "          <mi is=\"true\">&#x3C0;</mi>\n",
    "          <mi is=\"true\">&#x3A3;</mi>\n",
    "        </mrow>\n",
    "      </msqrt>\n",
    "    </mrow>\n",
    "  </mfrac>\n",
    "  <mo is=\"true\">exp</mo>\n",
    "  <mrow is=\"true\">\n",
    "    <mo is=\"true\">(</mo>\n",
    "    <mo is=\"true\">&#x2212;</mo>\n",
    "    <mfrac is=\"true\">\n",
    "      <mrow is=\"true\">\n",
    "        <msup is=\"true\">\n",
    "          <mrow is=\"true\">\n",
    "            <mrow is=\"true\">\n",
    "              <mo is=\"true\">(</mo>\n",
    "              <mi is=\"true\">x</mi>\n",
    "              <mo is=\"true\">&#x2212;</mo>\n",
    "              <mi is=\"true\">&#x3BC;</mi>\n",
    "              <mo is=\"true\">)</mo>\n",
    "            </mrow>\n",
    "          </mrow>\n",
    "          <mrow is=\"true\">\n",
    "            <mn is=\"true\">2</mn>\n",
    "          </mrow>\n",
    "        </msup>\n",
    "      </mrow>\n",
    "      <mrow is=\"true\">\n",
    "        <mn is=\"true\">2</mn>\n",
    "        <mi is=\"true\">&#x3A3;</mi>\n",
    "      </mrow>\n",
    "    </mfrac>\n",
    "    <mo is=\"true\">)</mo>\n",
    "  </mrow>\n",
    "  <mtext is=\"true\">.</mtext>\n",
    "</math>\n",
    "\n",
    "\n"
   ]
  },
  {
   "cell_type": "markdown",
   "metadata": {},
   "source": [
    "## Example 1:\n",
    "\n",
    "Organism infer size of food.\n",
    "One light sensitive recepot providing noisy estimate of light\n",
    "\n",
    "v = diameter of food item\n",
    "\n",
    "u = light intensity\n",
    "\n",
    "g =  non linear-function relating to average light intensity\n",
    "\n",
    "g(v) = v2 (amount of light reflected is related to area of object)\n",
    "\n",
    "percived light intensity is normally distributed with mean g(v) and variance Σμ\n",
    "\n",
    "\n",
    "Probability of u given v can be calulcated as:\n",
    "\n",
    "- P(u|v) = f(u;g(v), Σμ)\n",
    "\n",
    "which is the same as f(x;μ, Σ) \n",
    "    \n",
    "- x is the variable\n",
    "\n",
    "- μ is the mean (or g(v))\n",
    "\n",
    "- Σ is the variance \n",
    "\n",
    "\n",
    "\n",
    "Organism can redefine its guess by combing prior information on how large the food will be (Assume the animal expects this size to be normally distributed with mean vp and Σp)\n",
    "\n",
    "P(v) = f(v; vp, Σp) \n",
    "\n",
    "- PDF with priors \n",
    "\n",
    "\n",
    "### Bayes therom (exact solution)\n",
    "\n",
    "p(v|u) = p(v)p(u|v) / p(u)\n",
    "\n",
    "p(u) is the normalization term to ensure posterior probabilities of p(v|u) are integrated to 1:\n",
    "- p(u) = ∫p(v)p(u|v)dv\n"
   ]
  },
  {
   "cell_type": "code",
   "execution_count": 5,
   "metadata": {},
   "outputs": [],
   "source": [
    "import numpy as np\n",
    "import matplotlib.pyplot as plt\n",
    "import scipy.stats as stats"
   ]
  },
  {
   "cell_type": "code",
   "execution_count": 18,
   "metadata": {},
   "outputs": [
    {
     "data": {
      "text/plain": [
       "Text(0.5, 0, 'Food diameter')"
      ]
     },
     "execution_count": 18,
     "metadata": {},
     "output_type": "execute_result"
    },
    {
     "data": {
      "image/png": "[encoded data removed]",
      "text/plain": [
       "<Figure size 640x480 with 1 Axes>"
      ]
     },
     "metadata": {},
     "output_type": "display_data"
    }
   ],
   "source": [
    "u=2\n",
    "recptor_noise=1\n",
    "vp=3\n",
    "variance_prior=1\n",
    "min_v=0.05\n",
    "max_v=5.0\n",
    "dv = 0.01\n",
    "vals = np.arange(min_v, max_v, dv)\n",
    "# P(v) = f(v;vp, Σp) \n",
    "p_v_1 = stats.norm.pdf(vals, loc=vp, scale=recptor_noise)\n",
    "# P(u|v) = f(u;g(v), Σμ)\n",
    "p_u_v = stats.norm.pdf(u, loc=vals ** 2, scale=variance_prior)\n",
    "# p(v)p(u|v) \n",
    "num = p_v_1 * p_u_v\n",
    "demon = np.sum(num * dv)\n",
    "p = num/ demon\n",
    "plt.plot(vals, p)\n",
    "plt.ylabel(\"probability of fodd diameter given light intensity\")\n",
    "plt.xlabel(\"Food diameter\")"
   ]
  },
  {
   "cell_type": "markdown",
   "metadata": {},
   "source": [
    "This is challenging as for biological systems "
   ]
  }
 ],
 "metadata": {
  "kernelspec": {
   "display_name": "global",
   "language": "python",
   "name": "python3"
  },
  "language_info": {
   "codemirror_mode": {
    "name": "ipython",
    "version": 3
   },
   "file_extension": ".py",
   "mimetype": "text/x-python",
   "name": "python",
   "nbconvert_exporter": "python",
   "pygments_lexer": "ipython3",
   "version": "3.10.16"
  }
 },
 "nbformat": 4,
 "nbformat_minor": 2
}
