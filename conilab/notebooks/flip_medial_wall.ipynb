{
 "cells": [
  {
   "cell_type": "code",
   "execution_count": null,
   "metadata": {},
   "outputs": [],
   "source": [
    "import nibabel as nib\n",
    "import numpy as np\n",
    "\n",
    "# Load the surface (midthickness or white)\n",
    "surf = nib.load(\"L.midthickness.surf.gii\")\n",
    "coords = surf.darrays[0].data  # vertex coordinates\n",
    "\n",
    "# Load the (flipped) medial wall mask\n",
    "mask_gii = nib.load(\"medial_wall_wrong_side.func.gii\")\n",
    "mask = mask_gii.darrays[0].data.astype(bool)\n",
    "\n",
    "# Heuristic: medial wall is closer to the mid-sagittal plane (x ≈ 0 for L, x > 0 for R)\n",
    "# Assuming left hemisphere\n",
    "x_coords = coords[:, 0]\n",
    "midline = np.median(x_coords)  # or 0 if already in standard space\n",
    "\n",
    "# Define true medial side: vertices near midline\n",
    "threshold = 10  # in mm; adjust depending on spacing\n",
    "medial_vertices = np.abs(x_coords - midline) < threshold\n",
    "\n",
    "# Correct the flipped mask:\n",
    "# Use the flipped mask as a reference for the lateral side,\n",
    "# and define the new medial wall as the inverse of the lateral mask\n",
    "corrected_mask = np.zeros_like(mask, dtype=np.uint8)\n",
    "corrected_mask[medial_vertices] = 1\n",
    "\n",
    "# Save the corrected medial wall\n",
    "mask_gii.darrays[0].data = corrected_mask\n",
    "nib.save(mask_gii, \"medial_wall_corrected.func.gii\")\n"
   ]
  },
  {
   "cell_type": "code",
   "execution_count": 1,
   "metadata": {},
   "outputs": [],
   "source": [
    "import nibabel as nib\n",
    "import numpy as np\n",
    "\n",
    "gii = nib.load(\"/Users/mszdjh3/data/macaque_hilary/macaque_hillary/atlas/rh.medialwallneg.func.gii\")\n",
    "data = gii.darrays[0].data\n",
    "inverted_data = 1 - data\n",
    "gii.darrays[0].data = inverted_data\n",
    "nib.save(gii, \"/Users/mszdjh3/data/macaque_hilary/macaque_hillary/atlas/medial_wall_corrected.func.gii\")"
   ]
  }
 ],
 "metadata": {
  "kernelspec": {
   "display_name": "global",
   "language": "python",
   "name": "python3"
  },
  "language_info": {
   "codemirror_mode": {
    "name": "ipython",
    "version": 3
   },
   "file_extension": ".py",
   "mimetype": "text/x-python",
   "name": "python",
   "nbconvert_exporter": "python",
   "pygments_lexer": "ipython3",
   "version": "3.10.16"
  }
 },
 "nbformat": 4,
 "nbformat_minor": 2
}
