{
 "cells": [
  {
   "cell_type": "code",
   "execution_count": 1,
   "id": "4c9ef21f",
   "metadata": {},
   "outputs": [],
   "source": [
    "from gemmr.generative_model import GEMMR"
   ]
  },
  {
   "cell_type": "code",
   "execution_count": 2,
   "id": "1aa9327f",
   "metadata": {},
   "outputs": [],
   "source": [
    "model_definition = GEMMR('cca', wx=10, wy=5, r_between=0.3)\n"
   ]
  },
  {
   "cell_type": "code",
   "execution_count": 9,
   "id": "bf89ae58",
   "metadata": {},
   "outputs": [],
   "source": [
    "X, Y = model_definition.generate_data(n=1234)"
   ]
  },
  {
   "cell_type": "code",
   "execution_count": 10,
   "id": "d11cf4a2",
   "metadata": {},
   "outputs": [
    {
     "data": {
      "text/plain": [
       "array([[ 2.90900259e-01, -7.44048518e-01, -6.45900410e-01, ...,\n",
       "         2.58193498e-01,  5.98979028e-01,  7.72505370e-03],\n",
       "       [-8.67468870e-02,  1.24991784e+00,  7.91493005e-01, ...,\n",
       "        -1.36716910e-03, -1.38754025e-01,  2.97760847e-01],\n",
       "       [-2.55207158e+00, -2.48547758e-01,  2.67706412e-01, ...,\n",
       "         6.40642141e-02,  1.23322234e-01,  2.20907360e-03],\n",
       "       ...,\n",
       "       [ 4.46425318e-01,  1.75255157e-01, -8.37613815e-01, ...,\n",
       "         5.81392024e-02,  2.44801821e-02, -7.62880049e-01],\n",
       "       [ 7.09669858e-01, -2.41740160e-01,  9.71207499e-01, ...,\n",
       "         7.16964052e-03, -2.16594236e-01, -2.03903596e-01],\n",
       "       [ 1.22259050e+00, -3.52533886e-01, -6.55878622e-01, ...,\n",
       "        -3.15084196e-01, -5.29391189e-01,  5.16495374e-02]],\n",
       "      shape=(1234, 10))"
      ]
     },
     "execution_count": 10,
     "metadata": {},
     "output_type": "execute_result"
    }
   ],
   "source": [
    "X"
   ]
  },
  {
   "cell_type": "code",
   "execution_count": null,
   "id": "40749906",
   "metadata": {},
   "outputs": [],
   "source": []
  }
 ],
 "metadata": {
  "kernelspec": {
   "display_name": "cca",
   "language": "python",
   "name": "python3"
  },
  "language_info": {
   "codemirror_mode": {
    "name": "ipython",
    "version": 3
   },
   "file_extension": ".py",
   "mimetype": "text/x-python",
   "name": "python",
   "nbconvert_exporter": "python",
   "pygments_lexer": "ipython3",
   "version": "3.10.16"
  }
 },
 "nbformat": 4,
 "nbformat_minor": 5
}
