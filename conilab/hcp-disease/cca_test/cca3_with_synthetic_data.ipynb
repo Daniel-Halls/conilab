{
 "cells": [
  {
   "cell_type": "code",
   "execution_count": 2,
   "id": "4c9ef21f",
   "metadata": {},
   "outputs": [],
   "source": [
    "from gemmr.generative_model import GEMMR"
   ]
  },
  {
   "cell_type": "code",
   "execution_count": 3,
   "id": "1aa9327f",
   "metadata": {},
   "outputs": [],
   "source": [
    "gm = GEMMR('cca', wx=10, wy=5, r_between=0.3)\n"
   ]
  },
  {
   "cell_type": "code",
   "execution_count": null,
   "id": "bf89ae58",
   "metadata": {},
   "outputs": [],
   "source": [
    "X, Y = gm.generate_data(n=1234)"
   ]
  },
  {
   "cell_type": "code",
   "execution_count": 9,
   "id": "d11cf4a2",
   "metadata": {},
   "outputs": [
    {
     "data": {
      "text/plain": [
       "array([[-0.64972122,  0.11074106,  0.36519495, ..., -0.32754716,\n",
       "         0.1760767 ,  0.432759  ],\n",
       "       [ 1.33153142,  0.4764213 ,  0.28447462, ..., -0.14464345,\n",
       "         0.02502246,  0.78855589],\n",
       "       [ 0.33464757, -0.25270467, -1.35591224, ...,  0.20773082,\n",
       "         0.33922036,  0.19182246],\n",
       "       ...,\n",
       "       [ 0.79278586, -1.02047919,  0.14230241, ..., -0.49062819,\n",
       "         0.41757082,  0.25679314],\n",
       "       [-0.27788694, -0.51379034,  0.04160595, ...,  0.62328281,\n",
       "        -0.09135653,  0.51522405],\n",
       "       [-0.27412126, -1.02242953,  0.09031685, ..., -0.37369245,\n",
       "         0.43583933,  0.42596049]], shape=(1234, 10))"
      ]
     },
     "execution_count": 9,
     "metadata": {},
     "output_type": "execute_result"
    }
   ],
   "source": [
    "X"
   ]
  }
 ],
 "metadata": {
  "kernelspec": {
   "display_name": "cca",
   "language": "python",
   "name": "python3"
  },
  "language_info": {
   "codemirror_mode": {
    "name": "ipython",
    "version": 3
   },
   "file_extension": ".py",
   "mimetype": "text/x-python",
   "name": "python",
   "nbconvert_exporter": "python",
   "pygments_lexer": "ipython3",
   "version": "3.10.16"
  }
 },
 "nbformat": 4,
 "nbformat_minor": 5
}
